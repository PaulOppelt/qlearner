{
 "cells": [
  {
   "cell_type": "code",
   "execution_count": 3,
   "metadata": {},
   "outputs": [
    {
     "name": "stdout",
     "output_type": "stream",
     "text": [
      "Collecting gymnasium\n",
      "  Downloading gymnasium-1.0.0-py3-none-any.whl (958 kB)\n",
      "\u001b[2K     \u001b[90m━━━━━━━━━━━━━━━━━━━━━━━━━━━━━━━━━━━━━━━\u001b[0m \u001b[32m958.1/958.1 kB\u001b[0m \u001b[31m5.5 MB/s\u001b[0m eta \u001b[36m0:00:00\u001b[0ma \u001b[36m0:00:01\u001b[0m\n",
      "\u001b[?25hRequirement already satisfied: importlib-metadata>=4.8.0 in /Users/pauloppelt/opt/anaconda3/lib/python3.9/site-packages (from gymnasium) (4.11.3)\n",
      "Requirement already satisfied: cloudpickle>=1.2.0 in /Users/pauloppelt/opt/anaconda3/lib/python3.9/site-packages (from gymnasium) (2.0.0)\n",
      "Requirement already satisfied: numpy>=1.21.0 in /Users/pauloppelt/opt/anaconda3/lib/python3.9/site-packages (from gymnasium) (1.24.4)\n",
      "Requirement already satisfied: typing-extensions>=4.3.0 in /Users/pauloppelt/opt/anaconda3/lib/python3.9/site-packages (from gymnasium) (4.3.0)\n",
      "Collecting farama-notifications>=0.0.1\n",
      "  Downloading Farama_Notifications-0.0.4-py3-none-any.whl (2.5 kB)\n",
      "Requirement already satisfied: zipp>=0.5 in /Users/pauloppelt/opt/anaconda3/lib/python3.9/site-packages (from importlib-metadata>=4.8.0->gymnasium) (3.8.0)\n",
      "Installing collected packages: farama-notifications, gymnasium\n",
      "Successfully installed farama-notifications-0.0.4 gymnasium-1.0.0\n"
     ]
    }
   ],
   "source": [
    "!pip3 install gymnasium"
   ]
  },
  {
   "cell_type": "code",
   "execution_count": 44,
   "metadata": {},
   "outputs": [
    {
     "data": {
      "text/plain": [
       "<matplotlib.pyplot._IonContext at 0x1339fd0d0>"
      ]
     },
     "execution_count": 44,
     "metadata": {},
     "output_type": "execute_result"
    }
   ],
   "source": [
    "import gymnasium as gym\n",
    "import math\n",
    "import random\n",
    "import matplotlib\n",
    "import matplotlib.pyplot as plt\n",
    "from collections import namedtuple, deque\n",
    "from itertools import count\n",
    "from torch.utils.data import Dataset, DataLoader\n",
    "import numpy as np\n",
    "\n",
    "import torch\n",
    "import torch.nn as nn\n",
    "import torch.optim as optim\n",
    "import torch.nn.functional as F\n",
    "\n",
    "env = gym.make(\"CartPole-v1\")\n",
    "\n",
    "# set up matplotlib\n",
    "is_ipython = 'inline' in matplotlib.get_backend()\n",
    "if is_ipython:\n",
    "    from IPython import display\n",
    "\n",
    "plt.ion()"
   ]
  },
  {
   "cell_type": "code",
   "execution_count": 33,
   "metadata": {},
   "outputs": [],
   "source": [
    "observation, info = env.reset(seed=42)\n",
    "for _ in range(10000):\n",
    "    # this is where you would insert your policy\n",
    "    action = env.action_space.sample()\n",
    "\n",
    "    # step (transition) through the environment with the action\n",
    "    # receiving the next observation, reward and if the episode has terminated or truncated\n",
    "    observation, reward, terminated, truncated, info = env.step(action)\n",
    "\n",
    "    # If the episode has ended then we can reset to start a new episode\n",
    "    if terminated or truncated:\n",
    "        observation, info = env.reset()\n",
    "\n",
    "env.close()"
   ]
  },
  {
   "cell_type": "code",
   "execution_count": 34,
   "metadata": {},
   "outputs": [
    {
     "data": {
      "text/plain": [
       "(4,)"
      ]
     },
     "execution_count": 34,
     "metadata": {},
     "output_type": "execute_result"
    }
   ],
   "source": [
    "observation.shape"
   ]
  },
  {
   "cell_type": "code",
   "execution_count": 388,
   "metadata": {},
   "outputs": [],
   "source": [
    "class replay_memory(Dataset):\n",
    "    def __init__(self):\n",
    "        self.state_0 = []\n",
    "        self.state_1 = []\n",
    "        self.reward = []\n",
    "        self.action = []\n",
    "\n",
    "    def append_(self,state0, state1, reward, action):\n",
    "        self.state_0.append(state0)\n",
    "        self.state_1.append(state1)\n",
    "        self.reward.append(reward)\n",
    "        self.action.append(action)\n",
    "\n",
    "    def __len__(self):\n",
    "        return len(self.state_0)\n",
    "\n",
    "    def __getitem__(self,idx):\n",
    "        return (self.state_0[idx],self.state_1[idx],\n",
    "                 self.reward[idx], self.action[idx])\n",
    "    \n",
    "    def remove(self):\n",
    "        self.state_0.pop(0)\n",
    "        self.state_1.pop(0)\n",
    "        self.reward.pop(0)\n",
    "        self.action.pop(0)\n",
    "\n",
    "    def sample(self, batch_size):\n",
    "        idx = sorted(np.arange(len(self.state_0)))\n",
    "        idx_sample = random.sample(idx, batch_size)\n",
    "\n",
    "        return (torch.tensor([self.state_0[i]for i in idx_sample]),\n",
    "                torch.tensor([self.state_1[i]for i in idx_sample]),\n",
    "                torch.tensor([self.reward[i] for i in idx_sample]),\n",
    "                torch.tensor([self.action[i] for i in idx_sample]))\n",
    "\n",
    "class qnet(nn.Module):\n",
    "    def __init__(self,state_dim, action_dim):\n",
    "        super().__init__()\n",
    "        self.state_dim = state_dim\n",
    "        self.action_dim = action_dim\n",
    "\n",
    "        self.l1 = nn.Linear(state_dim,128)\n",
    "        self.l2 = nn.Linear(128,128)\n",
    "        self.l3 = nn.Linear(128,self.action_dim)\n",
    "\n",
    "        self.activation = nn.ReLU()\n",
    "\n",
    "    def forward(self,x):\n",
    "        x = F.relu(self.l1(x))\n",
    "        x = F.relu(self.l2(x))\n",
    "        x = self.l3(x)\n",
    "        return x\n",
    "\n",
    "def train(iterations, copy_period, batch_size, discount, random_action_p_start, random_action_p_end, verbose=False):\n",
    "\n",
    "    target_net = qnet(state_dim=4, action_dim=2)\n",
    "    policy_net = qnet(state_dim=4, action_dim=2)\n",
    "\n",
    "    target_net.eval()\n",
    "    policy_net.train()\n",
    "\n",
    "    optimizer = optim.AdamW(policy_net.parameters(), lr=1e-4, amsgrad=True)\n",
    "    Huber = nn.SmoothL1Loss()\n",
    "\n",
    "    policy_net.load_state_dict(target_net.state_dict())\n",
    "\n",
    "    replay = replay_memory()\n",
    "  \n",
    "    observation, info = env.reset(seed=42)\n",
    "    stop = 0\n",
    "    random_action_p = random_action_p_start\n",
    "    progress = []\n",
    "\n",
    "    for i in range(iterations):\n",
    "\n",
    "        random_action_p = random_action_p - (random_action_p_start-random_action_p_end)/iterations\n",
    "\n",
    "        if random.random()<random_action_p:\n",
    "            action = env.action_space.sample()\n",
    "        else:\n",
    "            with torch.no_grad():\n",
    "                q_values = policy_net(torch.tensor(observation).reshape(1,-1))\n",
    "            action = torch.argmax(q_values).item()\n",
    "\n",
    "        observation_, reward, terminated, truncated, info = env.step(action)\n",
    "\n",
    "        # If the episode has ended then we can reset to start a new episode\n",
    "        if terminated or truncated:\n",
    "            replay.append_(observation, observation_, 0, action)\n",
    "            progress.append(i-stop)\n",
    "            stop = i\n",
    "            observation, info = env.reset()\n",
    "        else:\n",
    "            replay.append_(observation, observation_, reward, action)\n",
    "            observation = observation_\n",
    "\n",
    "\n",
    "        if len(replay)>batch_size and i%(batch_size)==0:\n",
    "            optimizer.zero_grad()\n",
    "            sample = replay.sample(batch_size)\n",
    "            out = policy_net(sample[0])\n",
    "\n",
    "            q_state = out[torch.arange(batch_size), sample[3]]\n",
    "\n",
    "            with torch.no_grad():\n",
    "                q_next_state_max, _ = torch.max(target_net(sample[1]),dim=1)\n",
    "\n",
    "            mask = sample[2]==1\n",
    "\n",
    "            Loss = Huber(q_state, (sample[2] + discount*q_next_state_max*mask))\n",
    "\n",
    "            torch.nn.utils.clip_grad_value_(policy_net.parameters(), 100)\n",
    "            Loss.backward()\n",
    "            optimizer.step()\n",
    "\n",
    "            if verbose and i%1000==0:\n",
    "                print(f\"iteration: {i}, exploration: {random_action_p:2.3f} loss: {Loss:2.3f}, progress: {sum(progress[-10:])/10}\")\n",
    "\n",
    "        if i%copy_period==0:\n",
    "            target_net.load_state_dict(policy_net.state_dict())\n",
    "\n",
    "        if len(replay)>5000:\n",
    "            replay.remove()\n",
    "    print(plt.plot(progress))\n",
    "    plt.show()\n",
    "\n"
   ]
  },
  {
   "cell_type": "code",
   "execution_count": 390,
   "metadata": {},
   "outputs": [
    {
     "name": "stdout",
     "output_type": "stream",
     "text": [
      "iteration: 4000, exploration: 0.770 loss: 0.341, progress: 21.8\n",
      "iteration: 8000, exploration: 0.740 loss: 0.366, progress: 18.3\n",
      "iteration: 12000, exploration: 0.710 loss: 0.648, progress: 21.7\n",
      "iteration: 16000, exploration: 0.680 loss: 0.011, progress: 16.7\n",
      "iteration: 20000, exploration: 0.650 loss: 0.199, progress: 15.7\n",
      "iteration: 24000, exploration: 0.620 loss: 0.159, progress: 17.3\n",
      "iteration: 28000, exploration: 0.590 loss: 0.144, progress: 23.0\n",
      "iteration: 32000, exploration: 0.560 loss: 0.079, progress: 42.3\n",
      "iteration: 36000, exploration: 0.530 loss: 0.001, progress: 68.3\n",
      "iteration: 40000, exploration: 0.500 loss: 0.002, progress: 58.4\n",
      "iteration: 44000, exploration: 0.470 loss: 0.001, progress: 34.0\n",
      "iteration: 48000, exploration: 0.440 loss: 0.172, progress: 59.2\n",
      "iteration: 52000, exploration: 0.410 loss: 0.080, progress: 86.8\n",
      "iteration: 56000, exploration: 0.380 loss: 0.001, progress: 115.8\n",
      "iteration: 60000, exploration: 0.350 loss: 0.001, progress: 126.1\n",
      "iteration: 64000, exploration: 0.320 loss: 0.001, progress: 139.6\n",
      "iteration: 68000, exploration: 0.290 loss: 0.001, progress: 169.3\n",
      "iteration: 72000, exploration: 0.260 loss: 0.000, progress: 155.8\n",
      "iteration: 76000, exploration: 0.230 loss: 0.000, progress: 127.7\n",
      "iteration: 80000, exploration: 0.200 loss: 0.000, progress: 145.5\n",
      "iteration: 84000, exploration: 0.170 loss: 0.000, progress: 123.0\n",
      "iteration: 88000, exploration: 0.140 loss: 0.079, progress: 151.1\n",
      "iteration: 92000, exploration: 0.110 loss: 0.001, progress: 129.4\n",
      "iteration: 96000, exploration: 0.080 loss: 0.000, progress: 125.1\n",
      "[<matplotlib.lines.Line2D object at 0x14062fee0>]\n"
     ]
    },
    {
     "data": {
      "image/png": "[encoded data removed]",
      "text/plain": [
       "<Figure size 640x480 with 1 Axes>"
      ]
     },
     "metadata": {},
     "output_type": "display_data"
    }
   ],
   "source": [
    "iterations = 100000\n",
    "copy_period = 50\n",
    "batch_size = 32\n",
    "gamma = 0.7\n",
    "start = 0.8\n",
    "end = 0.05\n",
    "\n",
    "train(iterations,copy_period,batch_size,gamma,start,end,True)"
   ]
  },
  {
   "cell_type": "code",
   "execution_count": null,
   "metadata": {},
   "outputs": [
    {
     "data": {
      "text/plain": [
       "tensor([[-0.2548,  0.2913],\n",
       "        [ 0.9461, -1.0094],\n",
       "        [ 0.9972,  0.8844],\n",
       "        [-2.2006, -1.1497],\n",
       "        [-0.6361,  0.5999],\n",
       "        [ 1.2035, -1.0751],\n",
       "        [ 0.3528,  0.2270],\n",
       "        [-0.0824, -0.4690],\n",
       "        [ 1.1741, -0.6472],\n",
       "        [-0.7847, -0.2118]])"
      ]
     },
     "execution_count": 179,
     "metadata": {},
     "output_type": "execute_result"
    }
   ],
   "source": [
    "a = torch.randn(10,2)\n",
    "a\n"
   ]
  },
  {
   "cell_type": "code",
   "execution_count": 228,
   "metadata": {},
   "outputs": [],
   "source": [
    "max,idx=torch.max(a,dim=1)"
   ]
  },
  {
   "cell_type": "code",
   "execution_count": 229,
   "metadata": {},
   "outputs": [
    {
     "data": {
      "text/plain": [
       "tensor([ 0.2913,  0.9461,  0.9972, -1.1497,  0.5999,  1.2035,  0.3528, -0.0824,\n",
       "         1.1741, -0.2118])"
      ]
     },
     "execution_count": 229,
     "metadata": {},
     "output_type": "execute_result"
    }
   ],
   "source": [
    "max"
   ]
  },
  {
   "cell_type": "code",
   "execution_count": null,
   "metadata": {},
   "outputs": [
    {
     "name": "stdout",
     "output_type": "stream",
     "text": [
      "tensor([[ 3.0680,  0.8286,  0.1104,  1.4454, -2.4611],\n",
      "        [-0.0837, -1.2076, -0.5256,  0.2018,  0.5592],\n",
      "        [ 0.7829,  0.5252,  1.0224, -0.4959, -0.3781],\n",
      "        [-0.3049, -0.0706,  1.0762, -0.4705, -0.9339],\n",
      "        [-0.5046,  0.3974,  0.3418, -1.3537,  0.5515],\n",
      "        [ 1.1792, -0.3060,  0.8748, -2.1026, -1.6383],\n",
      "        [ 0.1405,  1.3074,  0.8414,  2.1613,  1.3371],\n",
      "        [-0.7136, -0.1475, -0.5759,  0.9557, -0.4512],\n",
      "        [ 0.3925, -1.6516, -0.9692, -0.0233, -0.8047],\n",
      "        [-0.4548,  0.0474,  1.8897,  0.0146,  0.7570]])\n",
      "tensor([1, 0, 3, 2, 4, 0, 2, 2, 2, 4])\n"
     ]
    },
    {
     "data": {
      "text/plain": [
       "tensor([ 0.8286, -0.0837, -0.4959,  1.0762,  0.5515,  1.1792,  0.8414, -0.5759,\n",
       "        -0.9692,  0.7570])"
      ]
     },
     "execution_count": 210,
     "metadata": {},
     "output_type": "execute_result"
    }
   ],
   "source": [
    "A, B = 10, 5\n",
    "x = torch.randn(A, B)\n",
    "print(x)\n",
    "idx = torch.randint(0, B, (A,))\n",
    "print(idx)\n",
    "\n",
    "x[torch.arange(A), idx]"
   ]
  },
  {
   "cell_type": "code",
   "execution_count": 56,
   "metadata": {},
   "outputs": [],
   "source": [
    "d.dataset.append(1,1,1,1)"
   ]
  },
  {
   "cell_type": "code",
   "execution_count": null,
   "metadata": {},
   "outputs": [
    {
     "ename": "TypeError",
     "evalue": "list indices must be integers or slices, not list",
     "output_type": "error",
     "traceback": [
      "\u001b[0;31m---------------------------------------------------------------------------\u001b[0m",
      "\u001b[0;31mTypeError\u001b[0m                                 Traceback (most recent call last)",
      "\u001b[0;32m/var/folders/js/hxmnpkdx4fvcpqktc9g8j9p80000gn/T/ipykernel_11097/4924637.py\u001b[0m in \u001b[0;36m<module>\u001b[0;34m\u001b[0m\n\u001b[0;32m----> 1\u001b[0;31m \u001b[0mrandom\u001b[0m\u001b[0;34m.\u001b[0m\u001b[0msample\u001b[0m\u001b[0;34m(\u001b[0m\u001b[0msorted\u001b[0m\u001b[0;34m(\u001b[0m\u001b[0mnp\u001b[0m\u001b[0;34m.\u001b[0m\u001b[0marange\u001b[0m\u001b[0;34m(\u001b[0m\u001b[0;36m10\u001b[0m\u001b[0;34m)\u001b[0m\u001b[0;34m)\u001b[0m\u001b[0;34m,\u001b[0m\u001b[0;36m5\u001b[0m\u001b[0;34m)\u001b[0m\u001b[0;34m[\u001b[0m\u001b[0;34m[\u001b[0m\u001b[0;36m1\u001b[0m\u001b[0;34m,\u001b[0m\u001b[0;36m2\u001b[0m\u001b[0;34m,\u001b[0m\u001b[0;36m3\u001b[0m\u001b[0;34m]\u001b[0m\u001b[0;34m]\u001b[0m\u001b[0;34m\u001b[0m\u001b[0;34m\u001b[0m\u001b[0m\n\u001b[0m",
      "\u001b[0;31mTypeError\u001b[0m: list indices must be integers or slices, not list"
     ]
    }
   ],
   "source": [
    "random.sample(sorted(np.arange(10)),5)"
   ]
  },
  {
   "cell_type": "code",
   "execution_count": null,
   "metadata": {},
   "outputs": [],
   "source": []
  }
 ],
 "metadata": {
  "kernelspec": {
   "display_name": "base",
   "language": "python",
   "name": "python3"
  },
  "language_info": {
   "codemirror_mode": {
    "name": "ipython",
    "version": 3
   },
   "file_extension": ".py",
   "mimetype": "text/x-python",
   "name": "python",
   "nbconvert_exporter": "python",
   "pygments_lexer": "ipython3",
   "version": "3.9.15"
  }
 },
 "nbformat": 4,
 "nbformat_minor": 2
}
